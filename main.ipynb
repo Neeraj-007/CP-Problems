{
  "nbformat": 4,
  "nbformat_minor": 0,
  "metadata": {
    "colab": {
      "name": "main.ipynb",
      "provenance": [],
      "include_colab_link": true
    },
    "kernelspec": {
      "name": "python3",
      "display_name": "Python 3"
    },
    "language_info": {
      "name": "python"
    }
  },
  "cells": [
    {
      "cell_type": "markdown",
      "metadata": {
        "id": "view-in-github",
        "colab_type": "text"
      },
      "source": [
        "<a href=\"https://colab.research.google.com/github/Neeraj-007/CP-Problems/blob/main/main.ipynb\" target=\"_parent\"><img src=\"https://colab.research.google.com/assets/colab-badge.svg\" alt=\"Open In Colab\"/></a>"
      ]
    },
    {
      "cell_type": "code",
      "source": [
        "from google.colab import drive\n",
        "drive.mount('/content/drive')"
      ],
      "metadata": {
        "colab": {
          "base_uri": "https://localhost:8080/"
        },
        "id": "3ugwr4-bwRRH",
        "outputId": "ef2ef539-5948-44dd-8094-38a281bbbb03"
      },
      "execution_count": null,
      "outputs": [
        {
          "output_type": "stream",
          "name": "stdout",
          "text": [
            "Drive already mounted at /content/drive; to attempt to forcibly remount, call drive.mount(\"/content/drive\", force_remount=True).\n"
          ]
        }
      ]
    },
    {
      "cell_type": "code",
      "source": [
        "import numpy as np\n",
        "import matplotlib.pyplot as plt\n",
        "import cv2\n",
        "import os"
      ],
      "metadata": {
        "id": "PKGLSLB1AyZV"
      },
      "execution_count": null,
      "outputs": []
    },
    {
      "cell_type": "code",
      "source": [
        "%matplotlib inline"
      ],
      "metadata": {
        "id": "RS-XgeSkDe_m"
      },
      "execution_count": null,
      "outputs": []
    },
    {
      "cell_type": "code",
      "source": [
        "path = r'/content/drive/MyDrive/iitd/dataset'"
      ],
      "metadata": {
        "id": "CQSFqTARDhpE"
      },
      "execution_count": null,
      "outputs": []
    },
    {
      "cell_type": "code",
      "source": [
        "l=os.listdir(path)"
      ],
      "metadata": {
        "id": "wPhQ624vD6Af"
      },
      "execution_count": null,
      "outputs": []
    },
    {
      "cell_type": "code",
      "source": [
        "data=[]\n",
        "\n",
        "for img in l:\n",
        "    img_path=os.path.join(path,img)\n",
        "    arr=cv2.imread(img_path,1)\n",
        "    if arr is not None:\n",
        "      arr=cv2.cvtColor(arr,cv2.COLOR_BGR2RGB)\n",
        "      arr_new=cv2.resize(arr,(100,100))\n",
        "      img1=img.split(' ')\n",
        "      img1=img1[0]\n",
        "      if(img1=='animal'):\n",
        "          label=0\n",
        "      elif(img1 == 'person'):\n",
        "          label=1\n",
        "      elif(img1 == 'cones'):\n",
        "          label=2\n",
        "      elif(img1 == 'stop'):\n",
        "          label=3\n",
        "      elif(img1 == 'traffic_red'):\n",
        "          label=4\n",
        "      elif(img1 == 'traffic_blue'):\n",
        "          label=5\n",
        "      else:\n",
        "          label=6\n",
        "      data.append([arr_new, label])"
      ],
      "metadata": {
        "id": "uBSJZGNHD9Pv"
      },
      "execution_count": null,
      "outputs": []
    },
    {
      "cell_type": "code",
      "source": [
        "import sklearn\n",
        "import random\n",
        "import shutil\n",
        "import sklearn.model_selection\n",
        "x=[]\n",
        "y=[]\n",
        "\n",
        "for features, label in data:\n",
        "    x.append(features)\n",
        "    y.append(label)\n",
        "\n",
        "x=np.array(x)\n",
        "y=np.array(y)\n",
        "\n",
        "X_train, X_test, y_train, y_test = sklearn.model_selection.train_test_split(x, y, test_size = 0.2, stratify = y, random_state = 42)"
      ],
      "metadata": {
        "id": "kbZwar4MjDGa"
      },
      "execution_count": null,
      "outputs": []
    },
    {
      "cell_type": "code",
      "source": [
        "X_train.shape"
      ],
      "metadata": {
        "colab": {
          "base_uri": "https://localhost:8080/"
        },
        "id": "mA-H8ri1kpaf",
        "outputId": "3a560e25-7737-446e-ea1b-c38f1e3b8f11"
      },
      "execution_count": null,
      "outputs": [
        {
          "output_type": "execute_result",
          "data": {
            "text/plain": [
              "(5480, 100, 100, 3)"
            ]
          },
          "metadata": {},
          "execution_count": 103
        }
      ]
    },
    {
      "cell_type": "code",
      "source": [
        "X_test.shape"
      ],
      "metadata": {
        "colab": {
          "base_uri": "https://localhost:8080/"
        },
        "id": "-OC8duTWks8_",
        "outputId": "7bc2f8fd-57a4-4761-b98b-92d8d1646443"
      },
      "execution_count": null,
      "outputs": [
        {
          "output_type": "execute_result",
          "data": {
            "text/plain": [
              "(1370, 100, 100, 3)"
            ]
          },
          "metadata": {},
          "execution_count": 104
        }
      ]
    },
    {
      "cell_type": "code",
      "source": [
        "X_train = X_train/255"
      ],
      "metadata": {
        "id": "TIwe7qLmyqCH"
      },
      "execution_count": null,
      "outputs": []
    },
    {
      "cell_type": "code",
      "source": [
        "import tensorflow as tf\n",
        "\n",
        "model = tf.keras.Sequential()\n",
        "model.add(tf.keras.layers.Conv2D(32, 2, activation='relu'))\n",
        "model.add(tf.keras.layers.MaxPool2D(pool_size = (2, 2)))\n",
        "\n",
        "model.add(tf.keras.layers.Conv2D(64, 2, activation='relu'))\n",
        "model.add(tf.keras.layers.MaxPool2D(pool_size = (2, 2), padding = 'same'))\n",
        "\n",
        "model.add(tf.keras.layers.Conv2D(32, 2, activation='relu'))\n",
        "model.add(tf.keras.layers.MaxPool2D(pool_size = (2, 2), padding = 'same'))\n",
        "\n",
        "model.add(tf.keras.layers.Conv2D(64, 2, activation='relu'))\n",
        "model.add(tf.keras.layers.MaxPool2D(pool_size = (2, 2), padding = 'same'))\n",
        "\n",
        "model.add(tf.keras.layers.Conv2D(32, 2, activation='relu'))\n",
        "model.add(tf.keras.layers.MaxPool2D(pool_size = (2, 2), padding = 'same'))\n",
        "\n",
        "model.add(tf.keras.layers.Conv2D(64, 2, activation='relu'))\n",
        "model.add(tf.keras.layers.MaxPool2D(pool_size = (2, 2), padding = 'same'))\n",
        "\n",
        "model.add(tf.keras.layers.Dense(1024, activation ='relu'))\n",
        "model.add(tf.keras.layers.Dropout(0.8))\n",
        "\n",
        "model.add(tf.keras.layers.Dense(7, activation ='softmax'))\n",
        "\n"
      ],
      "metadata": {
        "id": "D3RMh0Rayu13"
      },
      "execution_count": null,
      "outputs": []
    },
    {
      "cell_type": "code",
      "source": [
        "model.compile(optimizer=tf.keras.optimizers.Adam(learning_rate=0.01),\n",
        "              loss=tf.keras.losses.SparseCategoricalCrossentropy())"
      ],
      "metadata": {
        "id": "sLVlWAPo1dys"
      },
      "execution_count": null,
      "outputs": []
    },
    {
      "cell_type": "code",
      "source": [
        "X_train.shape"
      ],
      "metadata": {
        "colab": {
          "base_uri": "https://localhost:8080/"
        },
        "id": "rVMejYzq246q",
        "outputId": "ea71a715-aece-44bf-d6c8-cd5771cdbcb4"
      },
      "execution_count": null,
      "outputs": [
        {
          "output_type": "execute_result",
          "data": {
            "text/plain": [
              "(5480, 100, 100, 3)"
            ]
          },
          "metadata": {},
          "execution_count": 108
        }
      ]
    },
    {
      "cell_type": "code",
      "source": [
        "\n",
        "np.unique(y_train)"
      ],
      "metadata": {
        "colab": {
          "base_uri": "https://localhost:8080/"
        },
        "id": "jGg38lxv4JRW",
        "outputId": "c658c40b-a46e-4f63-e9db-0b44ee72a854"
      },
      "execution_count": null,
      "outputs": [
        {
          "output_type": "execute_result",
          "data": {
            "text/plain": [
              "array([0, 1, 2, 3, 4, 5, 6])"
            ]
          },
          "metadata": {},
          "execution_count": 109
        }
      ]
    },
    {
      "cell_type": "code",
      "source": [
        "model.fit(x = X_train, y = y_train, epochs = 10, batch_size = 64)"
      ],
      "metadata": {
        "colab": {
          "base_uri": "https://localhost:8080/"
        },
        "id": "hv4zznSW2GGa",
        "outputId": "c46f3f07-5a3c-474d-f74b-397adacd67d4"
      },
      "execution_count": null,
      "outputs": [
        {
          "output_type": "stream",
          "name": "stdout",
          "text": [
            "Train on 5480 samples\n",
            "Epoch 1/10\n",
            "5480/5480 [==============================] - 51s 9ms/sample - loss: 1.3071\n",
            "Epoch 2/10\n",
            "5480/5480 [==============================] - 48s 9ms/sample - loss: 1.1869\n",
            "Epoch 3/10\n",
            "5480/5480 [==============================] - 48s 9ms/sample - loss: 1.1733\n",
            "Epoch 4/10\n",
            "5480/5480 [==============================] - 48s 9ms/sample - loss: 1.1725\n",
            "Epoch 5/10\n",
            "5480/5480 [==============================] - 49s 9ms/sample - loss: 1.1689\n",
            "Epoch 6/10\n",
            "5480/5480 [==============================] - 48s 9ms/sample - loss: 1.1640\n",
            "Epoch 7/10\n",
            "5480/5480 [==============================] - 48s 9ms/sample - loss: 1.1632\n",
            "Epoch 8/10\n",
            "5480/5480 [==============================] - 49s 9ms/sample - loss: 1.1618\n",
            "Epoch 9/10\n",
            "5480/5480 [==============================] - 48s 9ms/sample - loss: 1.2326\n",
            "Epoch 10/10\n",
            "5480/5480 [==============================] - 48s 9ms/sample - loss: 1.1669\n"
          ]
        },
        {
          "output_type": "execute_result",
          "data": {
            "text/plain": [
              "<keras.callbacks.History at 0x7f22c769cd90>"
            ]
          },
          "metadata": {},
          "execution_count": 110
        }
      ]
    },
    {
      "cell_type": "code",
      "source": [
        "model.save(\"model.h5\")"
      ],
      "metadata": {
        "id": "b_-YGBmx8iB3"
      },
      "execution_count": null,
      "outputs": []
    },
    {
      "cell_type": "code",
      "source": [
        "model.evaluate(x = X_test, y = y_test, batch_size = 64)"
      ],
      "metadata": {
        "colab": {
          "base_uri": "https://localhost:8080/"
        },
        "id": "lqPVYe6G6hKP",
        "outputId": "622fe4ca-230d-440e-c2b6-e2d7c4dc7dd9"
      },
      "execution_count": null,
      "outputs": [
        {
          "output_type": "stream",
          "name": "stderr",
          "text": [
            "/usr/local/lib/python3.7/dist-packages/keras/engine/training_v1.py:2057: UserWarning: `Model.state_updates` will be removed in a future version. This property should not be used in TensorFlow 2.0, as `updates` are applied automatically.\n",
            "  updates = self.state_updates\n"
          ]
        },
        {
          "output_type": "execute_result",
          "data": {
            "text/plain": [
              "269.6978100853245"
            ]
          },
          "metadata": {},
          "execution_count": 112
        }
      ]
    },
    {
      "cell_type": "code",
      "source": [
        "predictions = model.predict(X_test[:10])\n",
        "predictions[0]"
      ],
      "metadata": {
        "colab": {
          "base_uri": "https://localhost:8080/"
        },
        "id": "-9WEI-BC7BvL",
        "outputId": "92d2675f-5096-4c9e-9c72-cf368376144a"
      },
      "execution_count": null,
      "outputs": [
        {
          "output_type": "stream",
          "name": "stderr",
          "text": [
            "/usr/local/lib/python3.7/dist-packages/keras/engine/training_v1.py:2079: UserWarning: `Model.state_updates` will be removed in a future version. This property should not be used in TensorFlow 2.0, as `updates` are applied automatically.\n",
            "  updates=self.state_updates,\n"
          ]
        },
        {
          "output_type": "execute_result",
          "data": {
            "text/plain": [
              "array([[[0., 0., 1., 0., 0., 0., 0.]]], dtype=float32)"
            ]
          },
          "metadata": {},
          "execution_count": 113
        }
      ]
    }
  ]
}